{
 "cells": [
  {
   "cell_type": "markdown",
   "metadata": {},
   "source": [
    "16/08/01\n",
    "We want SNR histogram down to SNR of 5. Vertical line at 7.3/sqrt(2). Indication of how many planets we'll get -- forcing the point: we'll still be in the regime in which extended observations will give us a bunch more super-Earths."
   ]
  },
  {
   "cell_type": "code",
   "execution_count": 2,
   "metadata": {
    "collapsed": false
   },
   "outputs": [
    {
     "name": "stderr",
     "output_type": "stream",
     "text": [
      "/home/luke/anaconda/lib/python2.7/site-packages/matplotlib/__init__.py:872: UserWarning: axes.color_cycle is deprecated and replaced with axes.prop_cycle; please use the latter.\n",
      "  warnings.warn(self.msg_depr % (key, alt_key))\n"
     ]
    },
    {
     "name": "stdout",
     "output_type": "stream",
     "text": [
      "Enter file name of output file (w/ fits extension) in logs: 160729_pm0_shemi_nhemi_npole_t20-pri.fits\n",
      "Type: none(pri)|extDiff: [n/ed]: n\n",
      "Catalog save? [y/n]: n\n",
      "Generate report? [y/n]: n\n",
      "Save all processed planets to new directory? (reqs diffReport) [y/n]: n\n",
      "Filename: /home/luke/Dropbox/tessSimulation/logs/output_files/160729_pm0_shemi_nhemi_npole_t20-pri.fits\n",
      "No.    Name         Type      Cards   Dimensions   Format\n",
      "0    PRIMARY     PrimaryHDU       6   (162499, 92)   float64   \n",
      "None\n",
      "\n",
      "Reading fits output from yieldCode to pandas data frame...\n",
      "Checking snr_pri and snrf from primary are almost equal to 3 decimals...\n",
      "\n",
      "        DROP LIST:\n",
      "        10 transits thrown out b/c too large\n",
      "        2 transits thrown out b/c teff>1.5e4 or teff<1.5e3\n",
      "        61565 transits thrown out b/c below final SNR threshold\n",
      "        0 transits thrown out b/c only single transit\n",
      "        \n",
      "\n",
      "Counting planets...\n",
      "\n",
      "====================\n",
      "Raw data is stored at */logs/160729_pm0_shemi_nhemi_npole_t20-pri.fits\n",
      "SNR threshold for detected planets is 7.3\n",
      "\n",
      "Planet counts:\n",
      "       earth_ps  spEarth_ps  sbNept_ps  giant_ps\n",
      "count   20.0000     20.0000    20.0000   20.0000\n",
      "mean    45.2500    385.3500  1114.1500  127.4000\n",
      "std      6.5845     24.8327    38.0502   12.2018\n",
      "min     31.0000    358.0000  1037.0000  107.0000\n",
      "25%     42.0000    366.5000  1096.0000  123.2500\n",
      "50%     46.0000    379.0000  1104.0000  126.0000\n",
      "75%     50.2500    400.7500  1137.7500  131.7500\n",
      "max     55.0000    449.0000  1189.0000  152.0000\n",
      "       earth_pffi  spEarth_pffi  sbNept_pffi  giant_pffi\n",
      "count     20.0000       20.0000      20.0000     20.0000\n",
      "mean       0.1000        7.3500     931.2000   2435.3000\n",
      "std        0.4472        2.5808      26.9456     34.7034\n",
      "min        0.0000        2.0000     892.0000   2362.0000\n",
      "25%        0.0000        5.0000     915.7500   2409.0000\n",
      "50%        0.0000        7.0000     926.5000   2438.0000\n",
      "75%        0.0000        9.2500     942.0000   2459.2500\n",
      "max        2.0000       11.0000     994.0000   2485.0000\n",
      "\n",
      "*Count summary (averaged over trials):\n",
      "PS planets: 1672\tFFI planets: 3374\tTotal: 5046\n",
      "Percent of total planets below 4 Earth radii: 49.2\n",
      "Percent of PSs with below 4 Earth radii: 92.4\n",
      "Percent of FFIs with below 4 Earth radii: 27.8\n",
      "\n",
      "*Binary info (for ALL detected planets):\n",
      "Of 5046 detected planets, 2092 are in binaries.\n",
      "Of these, 1559 orbit the primary, 533 orbit the secondary.\n",
      "For comparison, of ~1100 confirmed Kepler planets, something like 10-20 orbit binaries.\n",
      "In other words, our detected (CBP+CPP) fraction is 41.5% vs Kepler's 1.8%.\n",
      "Binary separation stats [AU] [nb. they may/may not be eclipsing]:\n",
      "count    4.1839e+04\n",
      "mean     2.4072e+03\n",
      "std      1.1403e+05\n",
      "min      8.4977e-08\n",
      "25%      1.2116e-02\n",
      "50%      1.2676e-01\n",
      "75%      1.7029e+00\n",
      "max      1.2770e+07\n",
      "Name: binsep, dtype: float64\n",
      "Dilution stats (\"dilution\" defined as total flux / target flux):\n",
      "Dilution for single stars:\n",
      "count    59083.0000\n",
      "mean         1.1242\n",
      "std          0.9415\n",
      "min          1.0000\n",
      "25%          1.0042\n",
      "50%          1.0188\n",
      "75%          1.0717\n",
      "max        104.9516\n",
      "Name: dil, dtype: float64\n",
      "Dilution for binary stars (either primary or secondary):\n",
      "count    41839.0000\n",
      "mean         2.8754\n",
      "std          3.7894\n",
      "min          1.0000\n",
      "25%          2.0146\n",
      "50%          2.2316\n",
      "75%          2.9378\n",
      "max        257.7152\n",
      "Name: dil, dtype: float64\n",
      "\n",
      "*Multiplanet system info (for ALL detected planets):\n"
     ]
    },
    {
     "name": "stderr",
     "output_type": "stream",
     "text": [
      "/home/luke/Dropbox/tessSimulation/postProcessing/unpackFns.py:327: FutureWarning: sort(columns=....) is deprecated, use sort_values(by=.....)\n",
      "  datSort = dat.sort(['trial', 'ra', 'dec', 'teff1']).reset_index()\n"
     ]
    },
    {
     "name": "stdout",
     "output_type": "stream",
     "text": [
      "Singles\tDoubles\tTriples\t>=Quads\n",
      "4722\t292\t30\t2\n",
      "Planets in our detected catalog have a 6.4% chance of having detected\n",
      "              planetary companions.\n",
      "For comparison, approx 40% of the Kepler planets have at least one companion (Rowe+ 2015).\n",
      "\n",
      "Now proceed to the rest of your post-processing!\n"
     ]
    }
   ],
   "source": [
    "run unpack"
   ]
  },
  {
   "cell_type": "code",
   "execution_count": 3,
   "metadata": {
    "collapsed": false
   },
   "outputs": [
    {
     "name": "stdout",
     "output_type": "stream",
     "text": [
      "Variable        Type         Data/Info\n",
      "--------------------------------------\n",
      "call            function     <function call at 0x7fe159b146e0>\n",
      "comments        str          \n",
      "dat             DataFrame                 a      age  <...>100922 rows x 93 columns]\n",
      "dt              module       <module 'datetime' from '<...>lib-dynload/datetime.so'>\n",
      "fName           str          160729_pm0_shemi_nhemi_npole_t20-pri.fits\n",
      "fits            module       <module 'astropy.io.fits'<...>py/io/fits/__init__.pyc'>\n",
      "genRpt          str          n\n",
      "gridspec        module       <module 'matplotlib.grids<...>matplotlib/gridspec.pyc'>\n",
      "hduList         HDUList      [<astropy.io.fits.hdu.ima<...>bject at 0x7fe0f64a28d0>]\n",
      "logsPath        str          /home/luke/Dropbox/tessSi<...>lation/logs/output_files/\n",
      "makeReport      module       <module 'makeReport' from<...>ocessing/makeReport.pyc'>\n",
      "mpl             module       <module 'matplotlib' from<...>matplotlib/__init__.pyc'>\n",
      "np              module       <module 'numpy' from '/ho<...>ages/numpy/__init__.pyc'>\n",
      "os              module       <module 'os' from '/home/<...>da/lib/python2.7/os.pyc'>\n",
      "pd              module       <module 'pandas' from '/h<...>ges/pandas/__init__.pyc'>\n",
      "pdfPages        type         <class 'matplotlib.backen<...>ds.backend_pdf.PdfPages'>\n",
      "plCnt           DataFrame        earth_pffi  earth_ps <...>     370.0        375.0  \n",
      "plt             module       <module 'matplotlib.pyplo<...>s/matplotlib/pyplot.pyc'>\n",
      "runType         str          n\n",
      "runTypePrompt   str          Type: none(pri)|extDiff: [n/ed]: \n",
      "saveCat         str          n\n",
      "saveDat         str          n\n",
      "sns             module       <module 'seaborn' from '/<...>es/seaborn/__init__.pyc'>\n",
      "sp              module       <module 'scipy' from '/ho<...>ages/scipy/__init__.pyc'>\n",
      "strVec          list         n=5\n",
      "thresh          float        7.3\n",
      "u               module       <module 'units' from '/ho<...>ostProcessing/units.pyc'>\n",
      "unpackFns       module       <module 'unpackFns' from <...>rocessing/unpackFns.pyc'>\n"
     ]
    }
   ],
   "source": [
    "whos"
   ]
  },
  {
   "cell_type": "code",
   "execution_count": 4,
   "metadata": {
    "collapsed": false
   },
   "outputs": [
    {
     "data": {
      "text/plain": [
       "7.300163745880127"
      ]
     },
     "execution_count": 4,
     "metadata": {},
     "output_type": "execute_result"
    }
   ],
   "source": [
    "min(dat.snrf)"
   ]
  },
  {
   "cell_type": "markdown",
   "metadata": {},
   "source": [
    "That's our standard treshold. We need to modify unpack to give us SNR>5.\n",
    "# Start here after making `unpack.py` thresh=5"
   ]
  },
  {
   "cell_type": "code",
   "execution_count": 1,
   "metadata": {
    "collapsed": false
   },
   "outputs": [
    {
     "name": "stdout",
     "output_type": "stream",
     "text": [
      "Interactive namespace is empty.\n"
     ]
    }
   ],
   "source": [
    "whos"
   ]
  },
  {
   "cell_type": "code",
   "execution_count": 11,
   "metadata": {
    "collapsed": false
   },
   "outputs": [
    {
     "name": "stdout",
     "output_type": "stream",
     "text": [
      "Enter file name of output file (w/ fits extension) in logs: 160729_pm0_shemi_nhemi_nhemi_t20-pri.fits\n",
      "Type: none(pri)|extDiff: [n/ed]: n\n",
      "Catalog save? [y/n]: n\n",
      "Generate report? [y/n]: n\n",
      "Save all processed planets to new directory? (reqs diffReport) [y/n]: n\n",
      "Filename: /home/luke/Dropbox/tessSimulation/logs/output_files/160729_pm0_shemi_nhemi_nhemi_t20-pri.fits\n",
      "No.    Name         Type      Cards   Dimensions   Format\n",
      "0    PRIMARY     PrimaryHDU       6   (161805, 92)   float64   \n",
      "None\n",
      "\n",
      "Reading fits output from yieldCode to pandas data frame...\n",
      "Checking snr_pri and snrf from primary are almost equal to 3 decimals...\n",
      "\n",
      "        DROP LIST:\n",
      "        10 transits thrown out b/c too large\n",
      "        3 transits thrown out b/c teff>1.5e4 or teff<1.5e3\n",
      "        0 transits thrown out b/c below final SNR threshold\n",
      "        0 transits thrown out b/c only single transit\n",
      "        \n",
      "\n",
      "Counting planets...\n",
      "\n",
      "====================\n",
      "Raw data is stored at */logs/160729_pm0_shemi_nhemi_nhemi_t20-pri.fits\n",
      "SNR threshold for detected planets is 5.0\n",
      "\n",
      "Planet counts:\n",
      "       earth_ps  spEarth_ps  sbNept_ps  giant_ps\n",
      "count   20.0000     20.0000    20.0000   20.0000\n",
      "mean   120.3500    787.6500  1519.2000  129.3000\n",
      "std     11.5178     25.1423    33.3665    9.4094\n",
      "min     97.0000    732.0000  1476.0000  108.0000\n",
      "25%    112.7500    780.2500  1489.7500  124.5000\n",
      "50%    122.5000    792.0000  1509.0000  129.5000\n",
      "75%    129.7500    801.7500  1551.7500  132.7500\n",
      "max    136.0000    834.0000  1576.0000  147.0000\n",
      "       earth_pffi  spEarth_pffi  sbNept_pffi  giant_pffi\n",
      "count     20.0000       20.0000      20.0000     20.0000\n",
      "mean       0.1000       72.8000    2653.4000   2806.8000\n",
      "std        0.3078        7.0008      47.9115     51.4153\n",
      "min        0.0000       58.0000    2564.0000   2690.0000\n",
      "25%        0.0000       68.7500    2624.5000   2780.0000\n",
      "50%        0.0000       72.0000    2652.5000   2800.5000\n",
      "75%        0.0000       77.0000    2688.0000   2842.2500\n",
      "max        1.0000       85.0000    2735.0000   2902.0000\n",
      "\n",
      "*Count summary (averaged over trials):\n",
      "PS planets: 2556\tFFI planets: 5533\tTotal: 8090\n",
      "Percent of total planets below 4 Earth radii: 63.7\n",
      "Percent of PSs with below 4 Earth radii: 94.9\n",
      "Percent of FFIs with below 4 Earth radii: 49.3\n",
      "\n",
      "*Binary info (for ALL detected planets):\n",
      "Of 8090 detected planets, 3235 are in binaries.\n",
      "Of these, 2426 orbit the primary, 810 orbit the secondary.\n",
      "For comparison, of ~1100 confirmed Kepler planets, something like 10-20 orbit binaries.\n",
      "In other words, our detected (CBP+CPP) fraction is 40.0% vs Kepler's 1.8%.\n",
      "Binary separation stats [AU] [nb. they may/may not be eclipsing]:\n",
      "count    6.4703e+04\n",
      "mean     2.1804e+03\n",
      "std      1.5076e+05\n",
      "min      2.0650e-08\n",
      "25%      1.1500e-02\n",
      "50%      1.1986e-01\n",
      "75%      1.6237e+00\n",
      "max      3.2819e+07\n",
      "Name: binsep, dtype: float64\n",
      "Dilution stats (\"dilution\" defined as total flux / target flux):\n",
      "Dilution for single stars:\n",
      "count    97089.0000\n",
      "mean         1.1315\n",
      "std          0.9049\n",
      "min          1.0000\n",
      "25%          1.0043\n",
      "50%          1.0194\n",
      "75%          1.0745\n",
      "max        120.5414\n",
      "Name: dil, dtype: float64\n",
      "Dilution for binary stars (either primary or secondary):\n",
      "count    64703.0000\n",
      "mean         2.8662\n",
      "std          3.9847\n",
      "min          1.0000\n",
      "25%          2.0152\n",
      "50%          2.2294\n",
      "75%          2.9211\n",
      "max        402.2467\n",
      "Name: dil, dtype: float64\n",
      "\n",
      "*Multiplanet system info (for ALL detected planets):\n",
      "Singles\tDoubles\tTriples\t>=Quads\n",
      "7411\t608\t66\t5\n",
      "Planets in our detected catalog have a 8.4% chance of having detected\n",
      "              planetary companions.\n",
      "For comparison, approx 40% of the Kepler planets have at least one companion (Rowe+ 2015).\n",
      "\n",
      "Now proceed to the rest of your post-processing!\n"
     ]
    }
   ],
   "source": [
    "run unpack"
   ]
  },
  {
   "cell_type": "code",
   "execution_count": 12,
   "metadata": {
    "collapsed": false
   },
   "outputs": [
    {
     "name": "stdout",
     "output_type": "stream",
     "text": [
      "Variable        Type                          Data/Info\n",
      "-------------------------------------------------------\n",
      "ax              AxesSubplot                   Axes(0.08,0.125;0.87x0.775)\n",
      "bin_edge        ndarray                       51: 51 elems, type `float64`, 408 bytes\n",
      "bins            ndarray                       51: 51 elems, type `float64`, 408 bytes\n",
      "call            function                      <function call at 0x7f166f2a76e0>\n",
      "comments        str                           \n",
      "dat             DataFrame                                  a      age  <...>161792 rows x 93 columns]\n",
      "dt              module                        <module 'datetime' from '<...>lib-dynload/datetime.so'>\n",
      "f               Figure                        Figure(640x480)\n",
      "fName           str                           160729_pm0_shemi_nhemi_nhemi_t20-pri.fits\n",
      "fits            module                        <module 'astropy.io.fits'<...>py/io/fits/__init__.pyc'>\n",
      "genRpt          str                           n\n",
      "gridspec        module                        <module 'matplotlib.grids<...>matplotlib/gridspec.pyc'>\n",
      "hduList         HDUList                       [<astropy.io.fits.hdu.ima<...>bject at 0x7f16155eb090>]\n",
      "hist_vals       ndarray                       51: 51 elems, type `float64`, 408 bytes\n",
      "isfile          function                      <function isfile at 0x7f166f39af50>\n",
      "join            function                      <function join at 0x7f166f360ed8>\n",
      "listdir         builtin_function_or_method    <built-in function listdir>\n",
      "logsPath        str                           /home/luke/Dropbox/tessSi<...>lation/logs/output_files/\n",
      "makeReport      module                        <module 'makeReport' from<...>ocessing/makeReport.pyc'>\n",
      "mpl             module                        <module 'matplotlib' from<...>matplotlib/__init__.pyc'>\n",
      "n_trials        int                           20\n",
      "np              module                        <module 'numpy' from '/ho<...>ages/numpy/__init__.pyc'>\n",
      "os              module                        <module 'os' from '/home/<...>da/lib/python2.7/os.pyc'>\n",
      "pd              module                        <module 'pandas' from '/h<...>ges/pandas/__init__.pyc'>\n",
      "pdfPages        type                          <class 'matplotlib.backen<...>ds.backend_pdf.PdfPages'>\n",
      "plCnt           DataFrame                         earth_pffi  earth_ps <...>     795.0        853.0  \n",
      "plt             module                        <module 'matplotlib.pyplo<...>s/matplotlib/pyplot.pyc'>\n",
      "runType         str                           n\n",
      "runTypePrompt   str                           Type: none(pri)|extDiff: [n/ed]: \n",
      "saveCat         str                           n\n",
      "saveDat         str                           n\n",
      "sns             module                        <module 'seaborn' from '/<...>es/seaborn/__init__.pyc'>\n",
      "sp              module                        <module 'scipy' from '/ho<...>ages/scipy/__init__.pyc'>\n",
      "strVec          list                          n=5\n",
      "tab             function                      <function table at 0x7f161fc99848>\n",
      "thresh          float                         5.0\n",
      "u               module                        <module 'units' from 'units.pyc'>\n",
      "unpackFns       module                        <module 'unpackFns' from <...>rocessing/unpackFns.pyc'>\n",
      "xlab            str                           Phase-folded SNR\n",
      "xlim            list                          n=2\n",
      "ylab            str                           Number of planets per bin\n"
     ]
    }
   ],
   "source": [
    "whos"
   ]
  },
  {
   "cell_type": "code",
   "execution_count": 13,
   "metadata": {
    "collapsed": false
   },
   "outputs": [
    {
     "data": {
      "text/plain": [
       "5.0000081062316895"
      ]
     },
     "execution_count": 13,
     "metadata": {},
     "output_type": "execute_result"
    }
   ],
   "source": [
    "min(dat.snrf)"
   ]
  },
  {
   "cell_type": "code",
   "execution_count": 14,
   "metadata": {
    "collapsed": false
   },
   "outputs": [
    {
     "data": {
      "text/plain": [
       "Index([u'a', u'age', u'bin', u'binsep', u'bint', u'bkph', u'cenerr1',\n",
       "       u'cenerr2', u'censhift1', u'censhift2', u'cosi', u'dec',\n",
       "       u'dep1_eff_ext', u'dep1_pri', u'dep2_eff_ext', u'dep2_pri', u'det1_ext',\n",
       "       u'det1_pri', u'det2_ext', u'det2_pri', u'det_ext', u'det_pri', u'detf',\n",
       "       u'dil', u'dm', u'dur1', u'dur1_eff_ext', u'dur1_eff_pri', u'dur2',\n",
       "       u'dur2_eff_ext', u'dur2_eff_pri', u'eclass', u'elat', u'elon', u'ffi',\n",
       "       u'ffiClass', u'fovr', u'glat', u'glon', u'gress1', u'gress2', u'hmag',\n",
       "       u'hostID', u'hpn', u'hsep', u'icmag', u'icsys', u'jmag', u'jsys',\n",
       "       u'kmag', u'kpsys', u'm1', u'm2', u'micSys', u'mult', u'necl1_ext',\n",
       "       u'necl1_pri', u'necl2_ext', u'necl2_pri', u'npix', u'npt_ext',\n",
       "       u'npt_pri', u'p', u'pr', u'r1', u'r2', u'ra', u'rvk', u's', u'sat',\n",
       "       u'snr1_ext', u'snr1_pri', u'snr2_ext', u'snr2_pri', u'snr_ext',\n",
       "       u'snr_pri', u'snrf', u'snrh_pri', u'snrhr_ext', u'starph', u'teff',\n",
       "       u'teff1', u'teff2', u'tmag', u'tmult', u'totpts', u'trial', u'tsys',\n",
       "       u'uniqEclipId', u'var', u'vmag', u'zodi', u'log10var'],\n",
       "      dtype='object')"
      ]
     },
     "execution_count": 14,
     "metadata": {},
     "output_type": "execute_result"
    }
   ],
   "source": [
    "dat.columns"
   ]
  },
  {
   "cell_type": "code",
   "execution_count": 15,
   "metadata": {
    "collapsed": false
   },
   "outputs": [
    {
     "data": {
      "text/plain": [
       "2.0"
      ]
     },
     "execution_count": 15,
     "metadata": {},
     "output_type": "execute_result"
    }
   ],
   "source": [
    "min(dat.necl1_pri+dat.necl1_ext)"
   ]
  },
  {
   "cell_type": "code",
   "execution_count": 16,
   "metadata": {
    "collapsed": true
   },
   "outputs": [],
   "source": [
    "import numpy as np\n",
    "import pandas as pd\n",
    "import datetime as dt\n",
    "import matplotlib.pyplot as plt\n",
    "import matplotlib as mpl\n",
    "from matplotlib import gridspec\n",
    "from matplotlib.backends.backend_pdf import PdfPages as pdfPages\n",
    "from subprocess import call as call\n",
    "import scipy as sp\n",
    "from os import listdir\n",
    "import os\n",
    "from os.path import isfile, join\n",
    "from pandas.tools.plotting import table as tab\n",
    "import units as u\n",
    "\n",
    "plt.style.use(['fivethirtyeight','presentation'])\n",
    "mpl.rcParams['text.latex.preamble'] = [\n",
    "    r'\\usepackage{helvet}',\n",
    "    r'\\usepackage{sansmath}',\n",
    "    r'\\sansmath']\n",
    "mpl.rcParams.update({'axes.labelsize': 'x-large'})\n",
    "mpl.rcParams.update({'xtick.labelsize': 'x-large'})\n",
    "mpl.rcParams.update({'ytick.labelsize': 'x-large'})\n",
    "plt.rc('text', usetex=True)"
   ]
  },
  {
   "cell_type": "code",
   "execution_count": 83,
   "metadata": {
    "collapsed": false
   },
   "outputs": [
    {
     "data": {
      "image/png": "[encoded data removed]",
      "text/plain": [
       "<matplotlib.figure.Figure at 0x7f15fc529910>"
      ]
     },
     "metadata": {},
     "output_type": "display_data"
    }
   ],
   "source": [
    "dat = dat[dat.r2 < 4]\n",
    "bins = np.arange(5, 10+0.1, 0.1)\n",
    "xlab, ylab = 'Phase-folded SNR of candidate', 'Number per bin'\n",
    "xlim = [5., 8.5]\n",
    "\n",
    "n_trials = int(max(dat.trial))\n",
    "hist_vals, bin_edge = np.histogram(dat.snrf, bins=bins)\n",
    "hist_vals = np.insert(hist_vals, 0, hist_vals[0]) # wonky bins for plot\n",
    "hist_vals = hist_vals / float(n_trials)\n",
    "\n",
    "%matplotlib inline\n",
    "plt.close('all')\n",
    "plt.ion()\n",
    "f, ax = plt.subplots(figsize=(6,4))\n",
    "ax.plot(bins, hist_vals, ls='steps-', lw=2, c='k')\n",
    "ax.vlines([5.2, 7.3], 0, 200, colors=['k','firebrick'], linestyles=['dotted','dashed'], lw=[1,1])\n",
    "ax.set(xlabel=xlab, ylabel=ylab, xlim=xlim);\n",
    "\n",
    "def fill_between_steps(x, y1, y2=0, h_align='mid', ax=None, **kwargs):\n",
    "    ''' Fills a hole in matplotlib: fill_between for step plots.\n",
    "\n",
    "    Parameters :\n",
    "    ------------\n",
    "\n",
    "    x : array-like\n",
    "        Array/vector of index values. These are assumed to be equally-spaced.\n",
    "        If not, the result will probably look weird...\n",
    "    y1 : array-like\n",
    "        Array/vector of values to be filled under.\n",
    "    y2 : array-Like\n",
    "        Array/vector or bottom values for filled area. Default is 0.\n",
    "\n",
    "    **kwargs will be passed to the matplotlib fill_between() function.\n",
    "\n",
    "    '''\n",
    "    # If no Axes opject given, grab the current one:\n",
    "    if ax is None:\n",
    "        ax = plt.gca()\n",
    "    # First, duplicate the x values\n",
    "    xx = x.repeat(2)[1:]\n",
    "    # Now: the average x binwidth\n",
    "    xstep = sp.repeat((x[1:] - x[:-1]), 2)\n",
    "    xstep = sp.concatenate(([xstep[0]], xstep, [xstep[-1]]))\n",
    "    # Now: add one step at end of row.\n",
    "    xx = sp.append(xx, xx.max() + xstep[-1])\n",
    "\n",
    "    # Make it possible to chenge step alignment.\n",
    "    if h_align == 'mid':\n",
    "        xx -= xstep / 2.\n",
    "    elif h_align == 'right':\n",
    "        xx -= xstep\n",
    "\n",
    "    # Also, duplicate each y coordinate in both arrays\n",
    "    y1 = y1.repeat(2)#[:-1]\n",
    "    if type(y2) == sp.ndarray:\n",
    "        y2 = y2.repeat(2)#[:-1]\n",
    "\n",
    "    # now to the plotting part:\n",
    "    ax.fill_between(xx, y1, y2=y2, **kwargs)\n",
    "\n",
    "    return ax\n",
    "\n",
    "ax = fill_between_steps(bins[3:24]-0.05, hist_vals[3:24], ax=ax)\n",
    "ax.text(7.3, 175, 'detection threshold', fontsize='large', \n",
    "        horizontalalignment='center', verticalalignment='bottom', bbox=dict(facecolor='snow'))\n",
    "ax.text(5.1, 110, r'$\\approx 7.3/\\sqrt{2}$', fontsize='large', \n",
    "        horizontalalignment='left', verticalalignment='bottom', bbox=dict(facecolor='snow'))\n",
    "ax.text((7.3-5.1)/2.+5.15, 25, \n",
    "        '{:d} planets detected by doubling\\n number of observed transits'.format(int(np.sum(hist_vals[3:24]))), \n",
    "        fontsize='large', horizontalalignment='center', verticalalignment='center', \n",
    "        bbox=dict(facecolor='snow'))\n",
    "plt.tight_layout()\n",
    "plt.savefig('snrf_histogram.pdf')\n",
    "plt.savefig('snrf_histogram.png', dpi=200)"
   ]
  },
  {
   "cell_type": "code",
   "execution_count": 82,
   "metadata": {
    "collapsed": false
   },
   "outputs": [
    {
     "data": {
      "text/plain": [
       "5.1618795026617965"
      ]
     },
     "execution_count": 82,
     "metadata": {},
     "output_type": "execute_result"
    }
   ],
   "source": [
    "7.3/(2**(1/2.))"
   ]
  },
  {
   "cell_type": "code",
   "execution_count": 58,
   "metadata": {
    "collapsed": false
   },
   "outputs": [
    {
     "data": {
      "text/plain": [
       "20"
      ]
     },
     "execution_count": 58,
     "metadata": {},
     "output_type": "execute_result"
    }
   ],
   "source": [
    "n_trials"
   ]
  },
  {
   "cell_type": "code",
   "execution_count": 45,
   "metadata": {
    "collapsed": true
   },
   "outputs": [],
   "source": [
    "ax.text?"
   ]
  },
  {
   "cell_type": "code",
   "execution_count": null,
   "metadata": {
    "collapsed": true
   },
   "outputs": [],
   "source": []
  }
 ],
 "metadata": {
  "kernelspec": {
   "display_name": "Python 2",
   "language": "python",
   "name": "python2"
  },
  "language_info": {
   "codemirror_mode": {
    "name": "ipython",
    "version": 2
   },
   "file_extension": ".py",
   "mimetype": "text/x-python",
   "name": "python",
   "nbconvert_exporter": "python",
   "pygments_lexer": "ipython2",
   "version": "2.7.11"
  }
 },
 "nbformat": 4,
 "nbformat_minor": 0
}
